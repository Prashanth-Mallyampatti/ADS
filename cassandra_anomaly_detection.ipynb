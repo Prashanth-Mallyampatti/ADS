{
 "cells": [
  {
   "cell_type": "code",
   "execution_count": 1,
   "metadata": {},
   "outputs": [],
   "source": [
    "%matplotlib inline\n",
    "from numpySOM import SOM\n",
    "import numpy as np\n",
    "import pandas as pd\n",
    "import matplotlib.pyplot as plt\n",
    "from sklearn.metrics import precision_score, recall_score, confusion_matrix"
   ]
  },
  {
   "cell_type": "code",
   "execution_count": 2,
   "metadata": {},
   "outputs": [],
   "source": [
    "cpu_data = pd.read_csv('cassandra_data/cpu_active.csv', index_col=0)\n",
    "memory_data = pd.read_csv('cassandra_data/memory_used.csv', index_col=0)\n",
    "memory_data = memory_data/(1024*1024*1024) #remove this line once data you get is in GBs"
   ]
  },
  {
   "cell_type": "code",
   "execution_count": 3,
   "metadata": {},
   "outputs": [
    {
     "data": {
      "text/html": [
       "<div>\n",
       "<style scoped>\n",
       "    .dataframe tbody tr th:only-of-type {\n",
       "        vertical-align: middle;\n",
       "    }\n",
       "\n",
       "    .dataframe tbody tr th {\n",
       "        vertical-align: top;\n",
       "    }\n",
       "\n",
       "    .dataframe thead th {\n",
       "        text-align: right;\n",
       "    }\n",
       "</style>\n",
       "<table border=\"1\" class=\"dataframe\">\n",
       "  <thead>\n",
       "    <tr style=\"text-align: right;\">\n",
       "      <th></th>\n",
       "      <th>cpu_node1</th>\n",
       "      <th>cpu_node2</th>\n",
       "      <th>cpu_node3</th>\n",
       "    </tr>\n",
       "  </thead>\n",
       "  <tbody>\n",
       "    <tr>\n",
       "      <th>2019-04-16 14:18:40</th>\n",
       "      <td>0.225507</td>\n",
       "      <td>0.125408</td>\n",
       "      <td>NaN</td>\n",
       "    </tr>\n",
       "    <tr>\n",
       "      <th>2019-04-16 14:18:50</th>\n",
       "      <td>0.150301</td>\n",
       "      <td>0.150489</td>\n",
       "      <td>0.050138</td>\n",
       "    </tr>\n",
       "    <tr>\n",
       "      <th>2019-04-16 14:19:00</th>\n",
       "      <td>0.075207</td>\n",
       "      <td>0.050150</td>\n",
       "      <td>0.175483</td>\n",
       "    </tr>\n",
       "    <tr>\n",
       "      <th>2019-04-16 14:19:10</th>\n",
       "      <td>0.250501</td>\n",
       "      <td>0.100301</td>\n",
       "      <td>0.075245</td>\n",
       "    </tr>\n",
       "    <tr>\n",
       "      <th>2019-04-16 14:19:20</th>\n",
       "      <td>0.150301</td>\n",
       "      <td>0.025082</td>\n",
       "      <td>0.225338</td>\n",
       "    </tr>\n",
       "  </tbody>\n",
       "</table>\n",
       "</div>"
      ],
      "text/plain": [
       "                     cpu_node1  cpu_node2  cpu_node3\n",
       "2019-04-16 14:18:40   0.225507   0.125408        NaN\n",
       "2019-04-16 14:18:50   0.150301   0.150489   0.050138\n",
       "2019-04-16 14:19:00   0.075207   0.050150   0.175483\n",
       "2019-04-16 14:19:10   0.250501   0.100301   0.075245\n",
       "2019-04-16 14:19:20   0.150301   0.025082   0.225338"
      ]
     },
     "execution_count": 3,
     "metadata": {},
     "output_type": "execute_result"
    }
   ],
   "source": [
    "cpu_data.head()"
   ]
  },
  {
   "cell_type": "code",
   "execution_count": 4,
   "metadata": {},
   "outputs": [
    {
     "data": {
      "text/html": [
       "<div>\n",
       "<style scoped>\n",
       "    .dataframe tbody tr th:only-of-type {\n",
       "        vertical-align: middle;\n",
       "    }\n",
       "\n",
       "    .dataframe tbody tr th {\n",
       "        vertical-align: top;\n",
       "    }\n",
       "\n",
       "    .dataframe thead th {\n",
       "        text-align: right;\n",
       "    }\n",
       "</style>\n",
       "<table border=\"1\" class=\"dataframe\">\n",
       "  <thead>\n",
       "    <tr style=\"text-align: right;\">\n",
       "      <th></th>\n",
       "      <th>mem_used_node1</th>\n",
       "      <th>mem_used_node2</th>\n",
       "      <th>mem_used_node3</th>\n",
       "    </tr>\n",
       "  </thead>\n",
       "  <tbody>\n",
       "    <tr>\n",
       "      <th>2019-04-16 14:18:30</th>\n",
       "      <td>4.362514</td>\n",
       "      <td>NaN</td>\n",
       "      <td>NaN</td>\n",
       "    </tr>\n",
       "    <tr>\n",
       "      <th>2019-04-16 14:18:40</th>\n",
       "      <td>4.362514</td>\n",
       "      <td>4.363770</td>\n",
       "      <td>NaN</td>\n",
       "    </tr>\n",
       "    <tr>\n",
       "      <th>2019-04-16 14:18:50</th>\n",
       "      <td>4.362617</td>\n",
       "      <td>4.363754</td>\n",
       "      <td>4.354584</td>\n",
       "    </tr>\n",
       "    <tr>\n",
       "      <th>2019-04-16 14:19:00</th>\n",
       "      <td>4.363064</td>\n",
       "      <td>4.364319</td>\n",
       "      <td>4.355049</td>\n",
       "    </tr>\n",
       "    <tr>\n",
       "      <th>2019-04-16 14:19:10</th>\n",
       "      <td>4.363052</td>\n",
       "      <td>4.364429</td>\n",
       "      <td>4.355160</td>\n",
       "    </tr>\n",
       "  </tbody>\n",
       "</table>\n",
       "</div>"
      ],
      "text/plain": [
       "                     mem_used_node1  mem_used_node2  mem_used_node3\n",
       "2019-04-16 14:18:30        4.362514             NaN             NaN\n",
       "2019-04-16 14:18:40        4.362514        4.363770             NaN\n",
       "2019-04-16 14:18:50        4.362617        4.363754        4.354584\n",
       "2019-04-16 14:19:00        4.363064        4.364319        4.355049\n",
       "2019-04-16 14:19:10        4.363052        4.364429        4.355160"
      ]
     },
     "execution_count": 4,
     "metadata": {},
     "output_type": "execute_result"
    }
   ],
   "source": [
    "memory_data.head()"
   ]
  },
  {
   "cell_type": "code",
   "execution_count": 9,
   "metadata": {},
   "outputs": [],
   "source": [
    "dataset = pd.concat([cpu_data, memory_data], axis=1)"
   ]
  },
  {
   "cell_type": "code",
   "execution_count": 10,
   "metadata": {},
   "outputs": [
    {
     "data": {
      "text/html": [
       "<div>\n",
       "<style scoped>\n",
       "    .dataframe tbody tr th:only-of-type {\n",
       "        vertical-align: middle;\n",
       "    }\n",
       "\n",
       "    .dataframe tbody tr th {\n",
       "        vertical-align: top;\n",
       "    }\n",
       "\n",
       "    .dataframe thead th {\n",
       "        text-align: right;\n",
       "    }\n",
       "</style>\n",
       "<table border=\"1\" class=\"dataframe\">\n",
       "  <thead>\n",
       "    <tr style=\"text-align: right;\">\n",
       "      <th></th>\n",
       "      <th>cpu_node1</th>\n",
       "      <th>cpu_node2</th>\n",
       "      <th>cpu_node3</th>\n",
       "      <th>mem_used_node1</th>\n",
       "      <th>mem_used_node2</th>\n",
       "      <th>mem_used_node3</th>\n",
       "    </tr>\n",
       "  </thead>\n",
       "  <tbody>\n",
       "    <tr>\n",
       "      <th>2019-04-16 14:18:30</th>\n",
       "      <td>NaN</td>\n",
       "      <td>NaN</td>\n",
       "      <td>NaN</td>\n",
       "      <td>4.362514</td>\n",
       "      <td>NaN</td>\n",
       "      <td>NaN</td>\n",
       "    </tr>\n",
       "    <tr>\n",
       "      <th>2019-04-16 14:18:40</th>\n",
       "      <td>0.225507</td>\n",
       "      <td>0.125408</td>\n",
       "      <td>NaN</td>\n",
       "      <td>4.362514</td>\n",
       "      <td>4.363770</td>\n",
       "      <td>NaN</td>\n",
       "    </tr>\n",
       "    <tr>\n",
       "      <th>2019-04-16 14:18:50</th>\n",
       "      <td>0.150301</td>\n",
       "      <td>0.150489</td>\n",
       "      <td>0.050138</td>\n",
       "      <td>4.362617</td>\n",
       "      <td>4.363754</td>\n",
       "      <td>4.354584</td>\n",
       "    </tr>\n",
       "    <tr>\n",
       "      <th>2019-04-16 14:19:00</th>\n",
       "      <td>0.075207</td>\n",
       "      <td>0.050150</td>\n",
       "      <td>0.175483</td>\n",
       "      <td>4.363064</td>\n",
       "      <td>4.364319</td>\n",
       "      <td>4.355049</td>\n",
       "    </tr>\n",
       "    <tr>\n",
       "      <th>2019-04-16 14:19:10</th>\n",
       "      <td>0.250501</td>\n",
       "      <td>0.100301</td>\n",
       "      <td>0.075245</td>\n",
       "      <td>4.363052</td>\n",
       "      <td>4.364429</td>\n",
       "      <td>4.355160</td>\n",
       "    </tr>\n",
       "  </tbody>\n",
       "</table>\n",
       "</div>"
      ],
      "text/plain": [
       "                     cpu_node1  cpu_node2  cpu_node3  mem_used_node1  \\\n",
       "2019-04-16 14:18:30        NaN        NaN        NaN        4.362514   \n",
       "2019-04-16 14:18:40   0.225507   0.125408        NaN        4.362514   \n",
       "2019-04-16 14:18:50   0.150301   0.150489   0.050138        4.362617   \n",
       "2019-04-16 14:19:00   0.075207   0.050150   0.175483        4.363064   \n",
       "2019-04-16 14:19:10   0.250501   0.100301   0.075245        4.363052   \n",
       "\n",
       "                     mem_used_node2  mem_used_node3  \n",
       "2019-04-16 14:18:30             NaN             NaN  \n",
       "2019-04-16 14:18:40        4.363770             NaN  \n",
       "2019-04-16 14:18:50        4.363754        4.354584  \n",
       "2019-04-16 14:19:00        4.364319        4.355049  \n",
       "2019-04-16 14:19:10        4.364429        4.355160  "
      ]
     },
     "execution_count": 10,
     "metadata": {},
     "output_type": "execute_result"
    }
   ],
   "source": [
    "dataset.head()"
   ]
  },
  {
   "cell_type": "code",
   "execution_count": 15,
   "metadata": {},
   "outputs": [],
   "source": [
    "dataset.fillna(method='bfill',  inplace=True)"
   ]
  },
  {
   "cell_type": "code",
   "execution_count": 17,
   "metadata": {},
   "outputs": [],
   "source": [
    "X = dataset.values"
   ]
  },
  {
   "cell_type": "code",
   "execution_count": 18,
   "metadata": {},
   "outputs": [],
   "source": [
    "from sklearn.preprocessing import MinMaxScaler\n",
    "sc = MinMaxScaler(feature_range = (0, 1))\n",
    "X = sc.fit_transform(X)"
   ]
  },
  {
   "cell_type": "code",
   "execution_count": 20,
   "metadata": {},
   "outputs": [
    {
     "data": {
      "text/plain": [
       "1231"
      ]
     },
     "execution_count": 20,
     "metadata": {},
     "output_type": "execute_result"
    }
   ],
   "source": [
    "len(X)"
   ]
  },
  {
   "cell_type": "code",
   "execution_count": 21,
   "metadata": {},
   "outputs": [
    {
     "data": {
      "text/plain": [
       "175.42804792848835"
      ]
     },
     "execution_count": 21,
     "metadata": {},
     "output_type": "execute_result"
    }
   ],
   "source": [
    "import math\n",
    "5*math.sqrt(1231)"
   ]
  },
  {
   "cell_type": "code",
   "execution_count": 22,
   "metadata": {},
   "outputs": [
    {
     "data": {
      "text/plain": [
       "13.228756555322953"
      ]
     },
     "execution_count": 22,
     "metadata": {},
     "output_type": "execute_result"
    }
   ],
   "source": [
    "math.sqrt(175)"
   ]
  },
  {
   "cell_type": "code",
   "execution_count": 23,
   "metadata": {},
   "outputs": [],
   "source": [
    "x_dim, y_dim = 13, 13\n",
    "som = SOM(M=x_dim, N=y_dim, noof_features=6, radius=1, learning_rate=0.5)"
   ]
  },
  {
   "cell_type": "code",
   "execution_count": 24,
   "metadata": {},
   "outputs": [],
   "source": [
    "som.randomly_initialise_weights(X)\n",
    "som.train_random(X, total_iterations=100)"
   ]
  },
  {
   "cell_type": "code",
   "execution_count": 25,
   "metadata": {},
   "outputs": [],
   "source": [
    "MID_map = som.get_MID_map()"
   ]
  },
  {
   "cell_type": "code",
   "execution_count": 27,
   "metadata": {},
   "outputs": [
    {
     "data": {
      "text/plain": [
       "<matplotlib.colorbar.Colorbar at 0x1a1b015198>"
      ]
     },
     "execution_count": 27,
     "metadata": {},
     "output_type": "execute_result"
    },
    {
     "data": {
      "image/png": "[encoded data removed]",
      "text/plain": [
       "<Figure size 432x288 with 2 Axes>"
      ]
     },
     "metadata": {},
     "output_type": "display_data"
    }
   ],
   "source": [
    "from pylab import bone, pcolor, colorbar, plot, show, figure\n",
    "bone()\n",
    "pcolor(MID_map.T)\n",
    "colorbar()"
   ]
  },
  {
   "cell_type": "code",
   "execution_count": 31,
   "metadata": {},
   "outputs": [],
   "source": [
    "mapping = som.bmu_to_data_points(X)"
   ]
  },
  {
   "cell_type": "code",
   "execution_count": 33,
   "metadata": {},
   "outputs": [
    {
     "data": {
      "text/plain": [
       "array([[0.0751503 , 0.07520682, 0.1002004 , 4.41586685, 4.4170723 ,\n",
       "        4.40376282],\n",
       "       [0.10015023, 0.02506894, 0.07520682, 4.41596985, 4.41706467,\n",
       "        4.40374374],\n",
       "       [0.15037594, 0.02506894, 0.15037594, 4.41594315, 4.41703415,\n",
       "        4.40374374],\n",
       "       [0.07516913, 0.07518797, 0.02507523, 4.41594315, 4.41701889,\n",
       "        4.40383148],\n",
       "       [0.02507523, 0.10027576, 0.07516913, 4.41592026, 4.41700745,\n",
       "        4.40382385],\n",
       "       [0.02506894, 0.07520682, 0.05012531, 4.41614151, 4.41711426,\n",
       "        4.40381622],\n",
       "       [0.0501002 , 0.02507523, 0.02508151, 4.41613388, 4.41710663,\n",
       "        4.40380859],\n",
       "       [0.07513148, 0.10032606, 0.07516913, 4.41630173, 4.41738129,\n",
       "        4.40384674],\n",
       "       [0.15037594, 0.        , 0.15033826, 4.41639328, 4.4174881 ,\n",
       "        4.40383911],\n",
       "       [0.05011275, 0.05012531, 0.1002004 , 4.41661453, 4.41746902,\n",
       "        4.40393448],\n",
       "       [0.07518797, 0.05016303, 0.1002004 , 4.41659164, 4.4174614 ,\n",
       "        4.40391922],\n",
       "       [0.05011275, 0.05016303, 0.10025063, 4.41684723, 4.41774368,\n",
       "        4.40410995]])"
      ]
     },
     "execution_count": 33,
     "metadata": {},
     "output_type": "execute_result"
    }
   ],
   "source": [
    "sc.inverse_transform(mapping[(11, 4)])"
   ]
  },
  {
   "cell_type": "code",
   "execution_count": 34,
   "metadata": {},
   "outputs": [],
   "source": [
    "import pickle\n",
    "def save(obj, filename):\n",
    "    with open(filename, 'wb') as output:\n",
    "        pickle.dump(obj, output, pickle.HIGHEST_PROTOCOL)\n",
    "\n",
    "\n",
    "def load(filename):\n",
    "    with open(filename, 'rb') as input:\n",
    "        return pickle.load(input)"
   ]
  },
  {
   "cell_type": "code",
   "execution_count": 35,
   "metadata": {},
   "outputs": [],
   "source": [
    "save(som, 'cassandra_som.pkl')"
   ]
  },
  {
   "cell_type": "code",
   "execution_count": 51,
   "metadata": {},
   "outputs": [],
   "source": [
    "save(sc, 'cassandra_sc.pkl')"
   ]
  },
  {
   "cell_type": "code",
   "execution_count": 67,
   "metadata": {},
   "outputs": [],
   "source": [
    "import time, calendar\n",
    "from datetime import datetime, timedelta\n",
    "import requests\n",
    "def get_data_sliding_window(window_size=600):\n",
    "    current_time = datetime.now()\n",
    "    start = current_time - timedelta(seconds=window_size)\n",
    "    start_timestamp = time.mktime(start.timetuple())\n",
    "    end_timestamp = time.mktime(current_time.timetuple())\n",
    "    mem_used_query_params = {\n",
    "        'query': \"collectd_memory{memory='used'}\",\n",
    "        'start': start_timestamp,\n",
    "        'end': end_timestamp,\n",
    "        'step': \"10\"\n",
    "    }\n",
    "    \n",
    "    cpu_query_params = {\n",
    "        'query': \"collectd_cpu_percent\",\n",
    "        'start': start_timestamp,\n",
    "        'end': end_timestamp,\n",
    "        'step': \"10\"\n",
    "    }\n",
    "    mem_used_response = requests.get('http://localhost:8080/api/v1/query_range', params=mem_used_query_params)\n",
    "    cpu_response = requests.get('http://localhost:8080/api/v1/query_range', params=cpu_query_params)\n",
    "    \n",
    "    mem_used_results = mem_used_response.json()\n",
    "    cpu_results = cpu_response.json()\n",
    "    return {\n",
    "        'cpu': cpu_results,\n",
    "        'mem_used': mem_used_results\n",
    "    }"
   ]
  },
  {
   "cell_type": "code",
   "execution_count": 68,
   "metadata": {},
   "outputs": [],
   "source": [
    "data = get_data_sliding_window()"
   ]
  },
  {
   "cell_type": "code",
   "execution_count": 71,
   "metadata": {},
   "outputs": [],
   "source": [
    "memory_data = data['mem_used']"
   ]
  },
  {
   "cell_type": "code",
   "execution_count": 72,
   "metadata": {},
   "outputs": [
    {
     "data": {
      "text/plain": [
       "{'status': 'success',\n",
       " 'data': {'resultType': 'matrix',\n",
       "  'result': [{'metric': {'__name__': 'collectd_memory',\n",
       "     'exported_instance': 'Node1',\n",
       "     'instance': '172.31.94.73:9103',\n",
       "     'job': 'node',\n",
       "     'memory': 'used'},\n",
       "    'values': [[1555592632, '4792471552'],\n",
       "     [1555592642, '4792459264'],\n",
       "     [1555592652, '4792459264'],\n",
       "     [1555592662, '4792459264'],\n",
       "     [1555592672, '4792459264'],\n",
       "     [1555592682, '4792451072'],\n",
       "     [1555592692, '4792451072'],\n",
       "     [1555592702, '4792553472'],\n",
       "     [1555592712, '4792528896'],\n",
       "     [1555592722, '4792528896'],\n",
       "     [1555592732, '4792528896'],\n",
       "     [1555592742, '4792528896'],\n",
       "     [1555592752, '4792201216'],\n",
       "     [1555592762, '4792225792'],\n",
       "     [1555592772, '4791590912'],\n",
       "     [1555592782, '4791574528'],\n",
       "     [1555592792, '4791566336'],\n",
       "     [1555592802, '4791566336'],\n",
       "     [1555592812, '4791558144'],\n",
       "     [1555592822, '4791558144'],\n",
       "     [1555592832, '4791558144'],\n",
       "     [1555592842, '4791554048'],\n",
       "     [1555592852, '4791549952'],\n",
       "     [1555592862, '4791545856'],\n",
       "     [1555592872, '4791533568'],\n",
       "     [1555592882, '4791533568'],\n",
       "     [1555592892, '4791525376'],\n",
       "     [1555592902, '4791521280'],\n",
       "     [1555592912, '4791517184'],\n",
       "     [1555592922, '4791513088'],\n",
       "     [1555592932, '4791500800'],\n",
       "     [1555592942, '4791500800'],\n",
       "     [1555592952, '4791615488'],\n",
       "     [1555592962, '4791611392'],\n",
       "     [1555592972, '4791603200'],\n",
       "     [1555592982, '4790075392'],\n",
       "     [1555592992, '4790075392'],\n",
       "     [1555593002, '4790071296'],\n",
       "     [1555593012, '4790071296'],\n",
       "     [1555593022, '4790071296'],\n",
       "     [1555593032, '4790063104'],\n",
       "     [1555593042, '4790165504'],\n",
       "     [1555593052, '4790083584'],\n",
       "     [1555593062, '4790099968'],\n",
       "     [1555593072, '4790099968'],\n",
       "     [1555593082, '4790095872'],\n",
       "     [1555593092, '4790095872'],\n",
       "     [1555593102, '4790095872'],\n",
       "     [1555593112, '4790095872'],\n",
       "     [1555593122, '4790071296'],\n",
       "     [1555593132, '4790071296'],\n",
       "     [1555593142, '4790063104'],\n",
       "     [1555593152, '4790059008'],\n",
       "     [1555593162, '4790054912'],\n",
       "     [1555593172, '4790034432'],\n",
       "     [1555593182, '4790145024'],\n",
       "     [1555593192, '4790140928'],\n",
       "     [1555593202, '4790140928'],\n",
       "     [1555593212, '4790140928'],\n",
       "     [1555593222, '4790140928'],\n",
       "     [1555593232, '4790140928']]},\n",
       "   {'metric': {'__name__': 'collectd_memory',\n",
       "     'exported_instance': 'Node2',\n",
       "     'instance': '172.31.94.73:9103',\n",
       "     'job': 'node',\n",
       "     'memory': 'used'},\n",
       "    'values': [[1555592632, '4809154560'],\n",
       "     [1555592642, '4809138176'],\n",
       "     [1555592652, '4809134080'],\n",
       "     [1555592662, '4809125888'],\n",
       "     [1555592672, '4809244672'],\n",
       "     [1555592682, '4809244672'],\n",
       "     [1555592692, '4809244672'],\n",
       "     [1555592702, '4809244672'],\n",
       "     [1555592712, '4808089600'],\n",
       "     [1555592722, '4808089600'],\n",
       "     [1555592732, '4808089600'],\n",
       "     [1555592742, '4808081408'],\n",
       "     [1555592752, '4807778304'],\n",
       "     [1555592762, '4807884800'],\n",
       "     [1555592772, '4807880704'],\n",
       "     [1555592782, '4807864320'],\n",
       "     [1555592792, '4807864320'],\n",
       "     [1555592802, '4807864320'],\n",
       "     [1555592812, '4807860224'],\n",
       "     [1555592822, '4807856128'],\n",
       "     [1555592832, '4807847936'],\n",
       "     [1555592842, '4807843840'],\n",
       "     [1555592852, '4807839744'],\n",
       "     [1555592862, '4807835648'],\n",
       "     [1555592872, '4807815168'],\n",
       "     [1555592882, '4807806976'],\n",
       "     [1555592892, '4807798784'],\n",
       "     [1555592902, '4807794688'],\n",
       "     [1555592912, '4807794688'],\n",
       "     [1555592922, '4807032832'],\n",
       "     [1555592932, '4807151616'],\n",
       "     [1555592942, '4807024640'],\n",
       "     [1555592952, '4807024640'],\n",
       "     [1555592962, '4807024640'],\n",
       "     [1555592972, '4807020544'],\n",
       "     [1555592982, '4807016448'],\n",
       "     [1555592992, '4807008256'],\n",
       "     [1555593002, '4807004160'],\n",
       "     [1555593012, '4807000064'],\n",
       "     [1555593022, '4806987776'],\n",
       "     [1555593032, '4806971392'],\n",
       "     [1555593042, '4806946816'],\n",
       "     [1555593052, '4806946816'],\n",
       "     [1555593062, '4806746112'],\n",
       "     [1555593072, '4805980160'],\n",
       "     [1555593082, '4805980160'],\n",
       "     [1555593092, '4805980160'],\n",
       "     [1555593102, '4805980160'],\n",
       "     [1555593112, '4805980160'],\n",
       "     [1555593122, '4805959680'],\n",
       "     [1555593132, '4805959680'],\n",
       "     [1555593142, '4805955584'],\n",
       "     [1555593152, '4805955584'],\n",
       "     [1555593162, '4805955584'],\n",
       "     [1555593172, '4805955584'],\n",
       "     [1555593182, '4805926912'],\n",
       "     [1555593192, '4805926912'],\n",
       "     [1555593202, '4805922816'],\n",
       "     [1555593212, '4805922816'],\n",
       "     [1555593222, '4805791744'],\n",
       "     [1555593232, '4805783552']]},\n",
       "   {'metric': {'__name__': 'collectd_memory',\n",
       "     'exported_instance': 'Node3',\n",
       "     'instance': '172.31.94.73:9103',\n",
       "     'job': 'node',\n",
       "     'memory': 'used'},\n",
       "    'values': [[1555592632, '4807643136'],\n",
       "     [1555592642, '4807634944'],\n",
       "     [1555592652, '4807757824'],\n",
       "     [1555592662, '4807749632'],\n",
       "     [1555592672, '4807749632'],\n",
       "     [1555592682, '4807610368'],\n",
       "     [1555592692, '4807598080'],\n",
       "     [1555592702, '4807593984'],\n",
       "     [1555592712, '4807565312'],\n",
       "     [1555592722, '4807557120'],\n",
       "     [1555592732, '4807553024'],\n",
       "     [1555592742, '4807548928'],\n",
       "     [1555592752, '4807344128'],\n",
       "     [1555592762, '4807364608'],\n",
       "     [1555592772, '4806586368'],\n",
       "     [1555592782, '4806586368'],\n",
       "     [1555592792, '4806582272'],\n",
       "     [1555592802, '4806582272'],\n",
       "     [1555592812, '4806582272'],\n",
       "     [1555592822, '4806582272'],\n",
       "     [1555592832, '4806582272'],\n",
       "     [1555592842, '4806582272'],\n",
       "     [1555592852, '4806582272'],\n",
       "     [1555592862, '4806582272'],\n",
       "     [1555592872, '4806578176'],\n",
       "     [1555592882, '4806565888'],\n",
       "     [1555592892, '4806565888'],\n",
       "     [1555592902, '4806561792'],\n",
       "     [1555592912, '4806561792'],\n",
       "     [1555592922, '4806561792'],\n",
       "     [1555592932, '4806561792'],\n",
       "     [1555592942, '4806557696'],\n",
       "     [1555592952, '4806557696'],\n",
       "     [1555592962, '4806549504'],\n",
       "     [1555592972, '4806541312'],\n",
       "     [1555592982, '4805017600'],\n",
       "     [1555592992, '4805017600'],\n",
       "     [1555593002, '4805017600'],\n",
       "     [1555593012, '4805017600'],\n",
       "     [1555593022, '4805013504'],\n",
       "     [1555593032, '4804997120'],\n",
       "     [1555593042, '4804984832'],\n",
       "     [1555593052, '4804657152'],\n",
       "     [1555593062, '4804546560'],\n",
       "     [1555593072, '4804546560'],\n",
       "     [1555593082, '4804538368'],\n",
       "     [1555593092, '4804534272'],\n",
       "     [1555593102, '4804530176'],\n",
       "     [1555593112, '4804530176'],\n",
       "     [1555593122, '4804509696'],\n",
       "     [1555593132, '4804509696'],\n",
       "     [1555593142, '4804509696'],\n",
       "     [1555593152, '4804509696'],\n",
       "     [1555593162, '4804509696'],\n",
       "     [1555593172, '4804493312'],\n",
       "     [1555593182, '4804472832'],\n",
       "     [1555593192, '4804464640'],\n",
       "     [1555593202, '4804460544'],\n",
       "     [1555593212, '4804460544'],\n",
       "     [1555593222, '4804460544'],\n",
       "     [1555593232, '4804460544']]}]}}"
      ]
     },
     "execution_count": 72,
     "metadata": {},
     "output_type": "execute_result"
    }
   ],
   "source": [
    "memory_data"
   ]
  },
  {
   "cell_type": "code",
   "execution_count": 73,
   "metadata": {},
   "outputs": [],
   "source": [
    "cpu_data = data['cpu']"
   ]
  },
  {
   "cell_type": "code",
   "execution_count": 74,
   "metadata": {},
   "outputs": [
    {
     "data": {
      "text/plain": [
       "{'status': 'success',\n",
       " 'data': {'resultType': 'matrix',\n",
       "  'result': [{'metric': {'__name__': 'collectd_cpu_percent',\n",
       "     'cpu': 'active',\n",
       "     'exported_instance': 'Node1',\n",
       "     'instance': '172.31.94.73:9103',\n",
       "     'job': 'node'},\n",
       "    'values': [[1555592632, '0.175175175175175'],\n",
       "     [1555592642, '0.0250438266967193'],\n",
       "     [1555592652, '0.0501002004008016'],\n",
       "     [1555592662, '0.0750750750750751'],\n",
       "     [1555592672, '0.150262960180316'],\n",
       "     [1555592682, '0.0501002004008016'],\n",
       "     [1555592692, '0.0750938673341677'],\n",
       "     [1555592702, '0.0751126690035053'],\n",
       "     [1555592712, '0.0501127536958156'],\n",
       "     [1555592722, '0.0500751126690035'],\n",
       "     [1555592732, '0.0250438266967193'],\n",
       "     [1555592742, '0.150075037518759'],\n",
       "     [1555592752, '0.150262960180316'],\n",
       "     [1555592762, '0.0751314800901578'],\n",
       "     [1555592772, '0.0750938673341677'],\n",
       "     [1555592782, '0.1001001001001'],\n",
       "     [1555592792, '0.0751503006012024'],\n",
       "     [1555592802, '0.100125156445557'],\n",
       "     [1555592812, '0.0750938673341677'],\n",
       "     [1555592822, '0.0500751126690035'],\n",
       "     [1555592832, '0.100225507391631'],\n",
       "     [1555592842, '0.0500876533934385'],\n",
       "     [1555592852, '0.100125156445557'],\n",
       "     [1555592862, '0.1001001001001'],\n",
       "     [1555592872, '0.15022533800701'],\n",
       "     [1555592882, '0.0750938673341677'],\n",
       "     [1555592892, '0.0501002004008016'],\n",
       "     [1555592902, '0.0501002004008016'],\n",
       "     [1555592912, '0.100125156445557'],\n",
       "     [1555592922, '0.100125156445557'],\n",
       "     [1555592932, '0.0500751126690035'],\n",
       "     [1555592942, '0.125125125125125'],\n",
       "     [1555592952, '0.100175306786877'],\n",
       "     [1555592962, '0.0501002004008016'],\n",
       "     [1555592972, '0.0751126690035052'],\n",
       "     [1555592982, '0.0500751126690035'],\n",
       "     [1555592992, '0.0250501002004008'],\n",
       "     [1555593002, '0.0501127536958156'],\n",
       "     [1555593012, '0.0750750750750751'],\n",
       "     [1555593022, '0.0751126690035052'],\n",
       "     [1555593032, '0.250312891113892'],\n",
       "     [1555593042, '0.0250438266967193'],\n",
       "     [1555593052, '0.0751314800901578'],\n",
       "     [1555593062, '0.150075037518759'],\n",
       "     [1555593072, '0.0501127536958156'],\n",
       "     [1555593082, '0'],\n",
       "     [1555593092, '0.0751126690035053'],\n",
       "     [1555593102, '0.100150225338007'],\n",
       "     [1555593112, '0.15015015015015'],\n",
       "     [1555593122, '0.0501002004008016'],\n",
       "     [1555593132, '0.0250438266967193'],\n",
       "     [1555593142, '0.0501002004008016'],\n",
       "     [1555593152, '0.150225338007011'],\n",
       "     [1555593162, '0.1001001001001'],\n",
       "     [1555593172, '0.1001001001001'],\n",
       "     [1555593182, '0'],\n",
       "     [1555593192, '0.0751314800901578'],\n",
       "     [1555593202, '0.125125125125125'],\n",
       "     [1555593212, '0.0501002004008016'],\n",
       "     [1555593222, '0.100075056292219'],\n",
       "     [1555593232, '0.100200400801603']]},\n",
       "   {'metric': {'__name__': 'collectd_cpu_percent',\n",
       "     'cpu': 'active',\n",
       "     'exported_instance': 'Node2',\n",
       "     'instance': '172.31.94.73:9103',\n",
       "     'job': 'node'},\n",
       "    'values': [[1555592632, '0'],\n",
       "     [1555592642, '0.0501002004008016'],\n",
       "     [1555592652, '0.0501127536958156'],\n",
       "     [1555592662, '0.0250375563345018'],\n",
       "     [1555592672, '0.0250563768479078'],\n",
       "     [1555592682, '0'],\n",
       "     [1555592692, '0.125219133483596'],\n",
       "     [1555592702, '0.0500751126690035'],\n",
       "     [1555592712, '0'],\n",
       "     [1555592722, '0.0500876533934385'],\n",
       "     [1555592732, '0.0751691305437234'],\n",
       "     [1555592742, '0'],\n",
       "     [1555592752, '0.100175306786877'],\n",
       "     [1555592762, '0.0501127536958156'],\n",
       "     [1555592772, '0'],\n",
       "     [1555592782, '0.0500751126690035'],\n",
       "     [1555592792, '0.0501002004008016'],\n",
       "     [1555592802, '0.0751126690035052'],\n",
       "     [1555592812, '0.075187969924812'],\n",
       "     [1555592822, '0'],\n",
       "     [1555592832, '0.0250563768479078'],\n",
       "     [1555592842, '0.0501002004008016'],\n",
       "     [1555592852, '0.0250563768479078'],\n",
       "     [1555592862, '0.0250563768479078'],\n",
       "     [1555592872, '0.0750938673341677'],\n",
       "     [1555592882, '0.025062656641604'],\n",
       "     [1555592892, '0.100200400801603'],\n",
       "     [1555592902, '0.0250563768479078'],\n",
       "     [1555592912, '0.0500876533934385'],\n",
       "     [1555592922, '0'],\n",
       "     [1555592932, '0.0501127536958156'],\n",
       "     [1555592942, '0.0250563768479078'],\n",
       "     [1555592952, '0'],\n",
       "     [1555592962, '0.025062656641604'],\n",
       "     [1555592972, '0.100200400801603'],\n",
       "     [1555592982, '0.0250563768479078'],\n",
       "     [1555592992, '0.0501002004008016'],\n",
       "     [1555593002, '0.0250501002004008'],\n",
       "     [1555593012, '0.075187969924812'],\n",
       "     [1555593022, '0.0250563768479078'],\n",
       "     [1555593032, '0.0500876533934385'],\n",
       "     [1555593042, '0'],\n",
       "     [1555593052, '0.125219133483596'],\n",
       "     [1555593062, '0.025062656641604'],\n",
       "     [1555593072, '0.100150225338007'],\n",
       "     [1555593082, '0'],\n",
       "     [1555593092, '0.100175306786877'],\n",
       "     [1555593102, '0.0250501002004008'],\n",
       "     [1555593112, '0.0250501002004008'],\n",
       "     [1555593122, '0.0501127536958156'],\n",
       "     [1555593132, '0.0751691305437234'],\n",
       "     [1555593142, '0.0250501002004008'],\n",
       "     [1555593152, '0.0501127536958156'],\n",
       "     [1555593162, '0'],\n",
       "     [1555593172, '0.0751691305437234'],\n",
       "     [1555593182, '0'],\n",
       "     [1555593192, '0.100200400801603'],\n",
       "     [1555593202, '0.0250438266967193'],\n",
       "     [1555593212, '0.100150225338007'],\n",
       "     [1555593222, '0.0250563768479078'],\n",
       "     [1555593232, '0.0501127536958156']]},\n",
       "   {'metric': {'__name__': 'collectd_cpu_percent',\n",
       "     'cpu': 'active',\n",
       "     'exported_instance': 'Node3',\n",
       "     'instance': '172.31.94.73:9103',\n",
       "     'job': 'node'},\n",
       "    'values': [[1555592632, '0.0751691305437234'],\n",
       "     [1555592642, '0.0501127536958156'],\n",
       "     [1555592652, '0.100150225338007'],\n",
       "     [1555592662, '0.0751691305437234'],\n",
       "     [1555592672, '0.0751691305437234'],\n",
       "     [1555592682, '0.100225507391631'],\n",
       "     [1555592692, '0'],\n",
       "     [1555592702, '0.0751503006012024'],\n",
       "     [1555592712, '0.0501127536958156'],\n",
       "     [1555592722, '0.0250689395838556'],\n",
       "     [1555592732, '0.100200400801603'],\n",
       "     [1555592742, '0.0501127536958156'],\n",
       "     [1555592752, '0.100225507391631'],\n",
       "     [1555592762, '0.075187969924812'],\n",
       "     [1555592772, '0.0501002004008016'],\n",
       "     [1555592782, '0.0501002004008016'],\n",
       "     [1555592792, '0.0751503006012024'],\n",
       "     [1555592802, '0.100275758335422'],\n",
       "     [1555592812, '0.100125156445557'],\n",
       "     [1555592822, '0.025062656641604'],\n",
       "     [1555592832, '0.0250689395838556'],\n",
       "     [1555592842, '0.100250626566416'],\n",
       "     [1555592852, '0.0501378791677112'],\n",
       "     [1555592862, '0.0751691305437234'],\n",
       "     [1555592872, '0.025062656641604'],\n",
       "     [1555592882, '0.150225338007011'],\n",
       "     [1555592892, '0.100175306786877'],\n",
       "     [1555592902, '0.0501002004008016'],\n",
       "     [1555592912, '0.0501002004008016'],\n",
       "     [1555592922, '0.0751691305437234'],\n",
       "     [1555592932, '0.0250501002004008'],\n",
       "     [1555592942, '0.025062656641604'],\n",
       "     [1555592952, '0.100175306786877'],\n",
       "     [1555592962, '0.125250501002004'],\n",
       "     [1555592972, '0.0250501002004008'],\n",
       "     [1555592982, '0.100175306786877'],\n",
       "     [1555592992, '0.0751503006012024'],\n",
       "     [1555593002, '0.0751503006012024'],\n",
       "     [1555593012, '0.0501002004008016'],\n",
       "     [1555593022, '0'],\n",
       "     [1555593032, '0.100175306786877'],\n",
       "     [1555593042, '0.150375939849624'],\n",
       "     [1555593052, '0.075187969924812'],\n",
       "     [1555593062, '0.0751503006012024'],\n",
       "     [1555593072, '0.0501504513540622'],\n",
       "     [1555593082, '0.100200400801603'],\n",
       "     [1555593092, '0.0751503006012024'],\n",
       "     [1555593102, '0.0501127536958156'],\n",
       "     [1555593112, '0.100150225338007'],\n",
       "     [1555593122, '0.0751503006012024'],\n",
       "     [1555593132, '0.025062656641604'],\n",
       "     [1555593142, '0.0501002004008016'],\n",
       "     [1555593152, '0.025062656641604'],\n",
       "     [1555593162, '0.125250501002004'],\n",
       "     [1555593172, '0.0501127536958156'],\n",
       "     [1555593182, '0.0751314800901578'],\n",
       "     [1555593192, '0.0501002004008016'],\n",
       "     [1555593202, '0.125187781672509'],\n",
       "     [1555593212, '0.0751314800901578'],\n",
       "     [1555593222, '0.0751691305437234'],\n",
       "     [1555593232, '0.0501127536958156']]}]}}"
      ]
     },
     "execution_count": 74,
     "metadata": {},
     "output_type": "execute_result"
    }
   ],
   "source": [
    "cpu_data"
   ]
  },
  {
   "cell_type": "code",
   "execution_count": 75,
   "metadata": {},
   "outputs": [],
   "source": [
    "def get_df_from_json(json_data, metric=\"cpu\"):\n",
    "    metrics = json_data.get('data', {}).get('result', [])\n",
    "    node1, node2, node3 = metrics[0], metrics[1], metrics[2]\n",
    "    node1_values = node1['values']\n",
    "    node1_timestamp = [datetime.fromtimestamp(val[0]) for val in node1_values]\n",
    "    node1_val = [float(val[1]) for val in node1_values]\n",
    "\n",
    "    node2_values = node2['values']\n",
    "    node2_timestamp = [datetime.fromtimestamp(val[0]) for val in node2_values]\n",
    "    node2_val = [float(val[1]) for val in node2_values]\n",
    "\n",
    "    node3_values = node3['values']\n",
    "    node3_timestamp = [datetime.fromtimestamp(val[0]) for val in node3_values]\n",
    "    node3_val = [float(val[1]) for val in node3_values]\n",
    "    \n",
    "    ser1 = pd.Series(node1_val, index=node1_timestamp, name=metric+\"_node1\")\n",
    "    ser2 = pd.Series(node2_val, index=node2_timestamp, name=metric+\"_node2\")\n",
    "    ser3 = pd.Series(node3_val, index=node3_timestamp, name=metric+\"_node3\")\n",
    "    \n",
    "    df = pd.concat([ser1, ser2, ser3], axis=1)\n",
    "    return df"
   ]
  },
  {
   "cell_type": "code",
   "execution_count": 76,
   "metadata": {},
   "outputs": [],
   "source": [
    "test_cpu_dataframe = get_df_from_json(cpu_data)"
   ]
  },
  {
   "cell_type": "code",
   "execution_count": 77,
   "metadata": {},
   "outputs": [],
   "source": [
    "test_mem_used_dataframe = get_df_from_json(memory_data, metric=\"mem_used\")"
   ]
  },
  {
   "cell_type": "code",
   "execution_count": 78,
   "metadata": {},
   "outputs": [],
   "source": [
    "test_mem_used_dataframe = test_mem_used_dataframe/(1024*1024*1024)"
   ]
  },
  {
   "cell_type": "code",
   "execution_count": 79,
   "metadata": {},
   "outputs": [
    {
     "data": {
      "text/html": [
       "<div>\n",
       "<style scoped>\n",
       "    .dataframe tbody tr th:only-of-type {\n",
       "        vertical-align: middle;\n",
       "    }\n",
       "\n",
       "    .dataframe tbody tr th {\n",
       "        vertical-align: top;\n",
       "    }\n",
       "\n",
       "    .dataframe thead th {\n",
       "        text-align: right;\n",
       "    }\n",
       "</style>\n",
       "<table border=\"1\" class=\"dataframe\">\n",
       "  <thead>\n",
       "    <tr style=\"text-align: right;\">\n",
       "      <th></th>\n",
       "      <th>mem_used_node1</th>\n",
       "      <th>mem_used_node2</th>\n",
       "      <th>mem_used_node3</th>\n",
       "    </tr>\n",
       "  </thead>\n",
       "  <tbody>\n",
       "    <tr>\n",
       "      <th>2019-04-18 09:03:52</th>\n",
       "      <td>4.463337</td>\n",
       "      <td>4.478874</td>\n",
       "      <td>4.477467</td>\n",
       "    </tr>\n",
       "    <tr>\n",
       "      <th>2019-04-18 09:04:02</th>\n",
       "      <td>4.463326</td>\n",
       "      <td>4.478859</td>\n",
       "      <td>4.477459</td>\n",
       "    </tr>\n",
       "    <tr>\n",
       "      <th>2019-04-18 09:04:12</th>\n",
       "      <td>4.463326</td>\n",
       "      <td>4.478855</td>\n",
       "      <td>4.477573</td>\n",
       "    </tr>\n",
       "    <tr>\n",
       "      <th>2019-04-18 09:04:22</th>\n",
       "      <td>4.463326</td>\n",
       "      <td>4.478848</td>\n",
       "      <td>4.477566</td>\n",
       "    </tr>\n",
       "    <tr>\n",
       "      <th>2019-04-18 09:04:32</th>\n",
       "      <td>4.463326</td>\n",
       "      <td>4.478958</td>\n",
       "      <td>4.477566</td>\n",
       "    </tr>\n",
       "  </tbody>\n",
       "</table>\n",
       "</div>"
      ],
      "text/plain": [
       "                     mem_used_node1  mem_used_node2  mem_used_node3\n",
       "2019-04-18 09:03:52        4.463337        4.478874        4.477467\n",
       "2019-04-18 09:04:02        4.463326        4.478859        4.477459\n",
       "2019-04-18 09:04:12        4.463326        4.478855        4.477573\n",
       "2019-04-18 09:04:22        4.463326        4.478848        4.477566\n",
       "2019-04-18 09:04:32        4.463326        4.478958        4.477566"
      ]
     },
     "execution_count": 79,
     "metadata": {},
     "output_type": "execute_result"
    }
   ],
   "source": [
    "test_mem_used_dataframe.head()"
   ]
  },
  {
   "cell_type": "code",
   "execution_count": 80,
   "metadata": {},
   "outputs": [
    {
     "data": {
      "text/html": [
       "<div>\n",
       "<style scoped>\n",
       "    .dataframe tbody tr th:only-of-type {\n",
       "        vertical-align: middle;\n",
       "    }\n",
       "\n",
       "    .dataframe tbody tr th {\n",
       "        vertical-align: top;\n",
       "    }\n",
       "\n",
       "    .dataframe thead th {\n",
       "        text-align: right;\n",
       "    }\n",
       "</style>\n",
       "<table border=\"1\" class=\"dataframe\">\n",
       "  <thead>\n",
       "    <tr style=\"text-align: right;\">\n",
       "      <th></th>\n",
       "      <th>cpu_node1</th>\n",
       "      <th>cpu_node2</th>\n",
       "      <th>cpu_node3</th>\n",
       "    </tr>\n",
       "  </thead>\n",
       "  <tbody>\n",
       "    <tr>\n",
       "      <th>2019-04-18 09:03:52</th>\n",
       "      <td>0.175175</td>\n",
       "      <td>0.000000</td>\n",
       "      <td>0.075169</td>\n",
       "    </tr>\n",
       "    <tr>\n",
       "      <th>2019-04-18 09:04:02</th>\n",
       "      <td>0.025044</td>\n",
       "      <td>0.050100</td>\n",
       "      <td>0.050113</td>\n",
       "    </tr>\n",
       "    <tr>\n",
       "      <th>2019-04-18 09:04:12</th>\n",
       "      <td>0.050100</td>\n",
       "      <td>0.050113</td>\n",
       "      <td>0.100150</td>\n",
       "    </tr>\n",
       "    <tr>\n",
       "      <th>2019-04-18 09:04:22</th>\n",
       "      <td>0.075075</td>\n",
       "      <td>0.025038</td>\n",
       "      <td>0.075169</td>\n",
       "    </tr>\n",
       "    <tr>\n",
       "      <th>2019-04-18 09:04:32</th>\n",
       "      <td>0.150263</td>\n",
       "      <td>0.025056</td>\n",
       "      <td>0.075169</td>\n",
       "    </tr>\n",
       "  </tbody>\n",
       "</table>\n",
       "</div>"
      ],
      "text/plain": [
       "                     cpu_node1  cpu_node2  cpu_node3\n",
       "2019-04-18 09:03:52   0.175175   0.000000   0.075169\n",
       "2019-04-18 09:04:02   0.025044   0.050100   0.050113\n",
       "2019-04-18 09:04:12   0.050100   0.050113   0.100150\n",
       "2019-04-18 09:04:22   0.075075   0.025038   0.075169\n",
       "2019-04-18 09:04:32   0.150263   0.025056   0.075169"
      ]
     },
     "execution_count": 80,
     "metadata": {},
     "output_type": "execute_result"
    }
   ],
   "source": [
    "test_cpu_dataframe.head()"
   ]
  },
  {
   "cell_type": "code",
   "execution_count": 81,
   "metadata": {},
   "outputs": [],
   "source": [
    "test_dataset = pd.concat([test_cpu_dataframe, test_mem_used_dataframe], axis=1)"
   ]
  },
  {
   "cell_type": "code",
   "execution_count": 82,
   "metadata": {},
   "outputs": [
    {
     "data": {
      "text/html": [
       "<div>\n",
       "<style scoped>\n",
       "    .dataframe tbody tr th:only-of-type {\n",
       "        vertical-align: middle;\n",
       "    }\n",
       "\n",
       "    .dataframe tbody tr th {\n",
       "        vertical-align: top;\n",
       "    }\n",
       "\n",
       "    .dataframe thead th {\n",
       "        text-align: right;\n",
       "    }\n",
       "</style>\n",
       "<table border=\"1\" class=\"dataframe\">\n",
       "  <thead>\n",
       "    <tr style=\"text-align: right;\">\n",
       "      <th></th>\n",
       "      <th>cpu_node1</th>\n",
       "      <th>cpu_node2</th>\n",
       "      <th>cpu_node3</th>\n",
       "      <th>mem_used_node1</th>\n",
       "      <th>mem_used_node2</th>\n",
       "      <th>mem_used_node3</th>\n",
       "    </tr>\n",
       "  </thead>\n",
       "  <tbody>\n",
       "    <tr>\n",
       "      <th>2019-04-18 09:03:52</th>\n",
       "      <td>0.175175</td>\n",
       "      <td>0.000000</td>\n",
       "      <td>0.075169</td>\n",
       "      <td>4.463337</td>\n",
       "      <td>4.478874</td>\n",
       "      <td>4.477467</td>\n",
       "    </tr>\n",
       "    <tr>\n",
       "      <th>2019-04-18 09:04:02</th>\n",
       "      <td>0.025044</td>\n",
       "      <td>0.050100</td>\n",
       "      <td>0.050113</td>\n",
       "      <td>4.463326</td>\n",
       "      <td>4.478859</td>\n",
       "      <td>4.477459</td>\n",
       "    </tr>\n",
       "    <tr>\n",
       "      <th>2019-04-18 09:04:12</th>\n",
       "      <td>0.050100</td>\n",
       "      <td>0.050113</td>\n",
       "      <td>0.100150</td>\n",
       "      <td>4.463326</td>\n",
       "      <td>4.478855</td>\n",
       "      <td>4.477573</td>\n",
       "    </tr>\n",
       "    <tr>\n",
       "      <th>2019-04-18 09:04:22</th>\n",
       "      <td>0.075075</td>\n",
       "      <td>0.025038</td>\n",
       "      <td>0.075169</td>\n",
       "      <td>4.463326</td>\n",
       "      <td>4.478848</td>\n",
       "      <td>4.477566</td>\n",
       "    </tr>\n",
       "    <tr>\n",
       "      <th>2019-04-18 09:04:32</th>\n",
       "      <td>0.150263</td>\n",
       "      <td>0.025056</td>\n",
       "      <td>0.075169</td>\n",
       "      <td>4.463326</td>\n",
       "      <td>4.478958</td>\n",
       "      <td>4.477566</td>\n",
       "    </tr>\n",
       "  </tbody>\n",
       "</table>\n",
       "</div>"
      ],
      "text/plain": [
       "                     cpu_node1  cpu_node2  cpu_node3  mem_used_node1  \\\n",
       "2019-04-18 09:03:52   0.175175   0.000000   0.075169        4.463337   \n",
       "2019-04-18 09:04:02   0.025044   0.050100   0.050113        4.463326   \n",
       "2019-04-18 09:04:12   0.050100   0.050113   0.100150        4.463326   \n",
       "2019-04-18 09:04:22   0.075075   0.025038   0.075169        4.463326   \n",
       "2019-04-18 09:04:32   0.150263   0.025056   0.075169        4.463326   \n",
       "\n",
       "                     mem_used_node2  mem_used_node3  \n",
       "2019-04-18 09:03:52        4.478874        4.477467  \n",
       "2019-04-18 09:04:02        4.478859        4.477459  \n",
       "2019-04-18 09:04:12        4.478855        4.477573  \n",
       "2019-04-18 09:04:22        4.478848        4.477566  \n",
       "2019-04-18 09:04:32        4.478958        4.477566  "
      ]
     },
     "execution_count": 82,
     "metadata": {},
     "output_type": "execute_result"
    }
   ],
   "source": [
    "test_dataset.head()"
   ]
  },
  {
   "cell_type": "code",
   "execution_count": 86,
   "metadata": {},
   "outputs": [],
   "source": [
    "clf_path = 'cassandra_som.pkl'\n",
    "with open(clf_path, 'rb') as f:\n",
    "    som = pickle.load(f)\n",
    "\n",
    "scaler_path = 'cassandra_sc.pkl'\n",
    "with open(scaler_path, 'rb') as f:\n",
    "    sc = pickle.load(f)\n"
   ]
  },
  {
   "cell_type": "code",
   "execution_count": 87,
   "metadata": {},
   "outputs": [],
   "source": [
    "MID_map = som.get_MID_map()\n",
    "\n",
    "all_mids = []\n",
    "x_dim, y_dim = len(som.neigx), len(som.neigy)\n",
    "for i in range(x_dim):\n",
    "    for j in range(y_dim):\n",
    "        all_mids.append(MID_map[i][j])"
   ]
  },
  {
   "cell_type": "code",
   "execution_count": 89,
   "metadata": {},
   "outputs": [],
   "source": [
    "p = np.percentile(all_mids, 85)"
   ]
  },
  {
   "cell_type": "code",
   "execution_count": 90,
   "metadata": {},
   "outputs": [
    {
     "data": {
      "text/plain": [
       "0.344334636773298"
      ]
     },
     "execution_count": 90,
     "metadata": {},
     "output_type": "execute_result"
    }
   ],
   "source": [
    "p"
   ]
  },
  {
   "cell_type": "code",
   "execution_count": 91,
   "metadata": {},
   "outputs": [],
   "source": [
    "X_test = test_dataset.values"
   ]
  },
  {
   "cell_type": "code",
   "execution_count": 92,
   "metadata": {},
   "outputs": [],
   "source": [
    "X_test = sc.transform(X_test)"
   ]
  },
  {
   "cell_type": "code",
   "execution_count": 99,
   "metadata": {},
   "outputs": [
    {
     "data": {
      "text/plain": [
       "array([0.00311136, 0.01535764, 0.00614151, 1.01775399, 1.18056262,\n",
       "       1.28638179])"
      ]
     },
     "execution_count": 99,
     "metadata": {},
     "output_type": "execute_result"
    }
   ],
   "source": [
    "X_test[1]"
   ]
  },
  {
   "cell_type": "code",
   "execution_count": 102,
   "metadata": {},
   "outputs": [],
   "source": [
    "N = len(X_test)\n",
    "mid_test = []\n",
    "for i in range(N):\n",
    "    bmu = som.best_matching_unit(X_test[i])\n",
    "    mid = MID_map[bmu]\n",
    "    mid_test.append(mid)"
   ]
  },
  {
   "cell_type": "code",
   "execution_count": 103,
   "metadata": {},
   "outputs": [],
   "source": [
    "for mid in mid_test:\n",
    "    if mid>p:\n",
    "        print('send slack alert')\n",
    "        "
   ]
  },
  {
   "cell_type": "code",
   "execution_count": null,
   "metadata": {},
   "outputs": [],
   "source": []
  }
 ],
 "metadata": {
  "kernelspec": {
   "display_name": "Python 3",
   "language": "python",
   "name": "python3"
  },
  "language_info": {
   "codemirror_mode": {
    "name": "ipython",
    "version": 3
   },
   "file_extension": ".py",
   "mimetype": "text/x-python",
   "name": "python",
   "nbconvert_exporter": "python",
   "pygments_lexer": "ipython3",
   "version": "3.6.5"
  }
 },
 "nbformat": 4,
 "nbformat_minor": 2
}
