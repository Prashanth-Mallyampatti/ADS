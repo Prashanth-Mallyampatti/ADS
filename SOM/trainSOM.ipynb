{
 "cells": [
  {
   "cell_type": "code",
   "execution_count": 1,
   "metadata": {},
   "outputs": [],
   "source": [
    "\"\"\"\n",
    "@author: Rajat Narang\n",
    "\n",
    "Train the SOM Offline\n",
    "\"\"\"\n",
    "\n",
    "%matplotlib inline\n",
    "from numpySOM import SOM\n",
    "import numpy as np\n",
    "import pandas as pd\n",
    "import matplotlib.pyplot as plt\n",
    "import math"
   ]
  },
  {
   "cell_type": "code",
   "execution_count": 2,
   "metadata": {},
   "outputs": [],
   "source": [
    "#Read in the data\n",
    "dataset = pd.read_csv('cassandra_data_23April.csv', index_col=0)"
   ]
  },
  {
   "cell_type": "code",
   "execution_count": 3,
   "metadata": {},
   "outputs": [
    {
     "data": {
      "text/html": [
       "<div>\n",
       "<style scoped>\n",
       "    .dataframe tbody tr th:only-of-type {\n",
       "        vertical-align: middle;\n",
       "    }\n",
       "\n",
       "    .dataframe tbody tr th {\n",
       "        vertical-align: top;\n",
       "    }\n",
       "\n",
       "    .dataframe thead th {\n",
       "        text-align: right;\n",
       "    }\n",
       "</style>\n",
       "<table border=\"1\" class=\"dataframe\">\n",
       "  <thead>\n",
       "    <tr style=\"text-align: right;\">\n",
       "      <th></th>\n",
       "      <th>collectd_cpu_percent_node1</th>\n",
       "      <th>collectd_cpu_percent_node2</th>\n",
       "      <th>collectd_cpu_percent_node3</th>\n",
       "      <th>memory_node1</th>\n",
       "      <th>memory_node2</th>\n",
       "      <th>memory_node3</th>\n",
       "    </tr>\n",
       "  </thead>\n",
       "  <tbody>\n",
       "    <tr>\n",
       "      <th>2019-04-23 04:31:00</th>\n",
       "      <td>1.253133</td>\n",
       "      <td>0.251256</td>\n",
       "      <td>0.251256</td>\n",
       "      <td>10.917618</td>\n",
       "      <td>8.468021</td>\n",
       "      <td>8.524799</td>\n",
       "    </tr>\n",
       "    <tr>\n",
       "      <th>2019-04-23 04:31:01</th>\n",
       "      <td>1.253133</td>\n",
       "      <td>0.750000</td>\n",
       "      <td>0.000000</td>\n",
       "      <td>10.917618</td>\n",
       "      <td>8.468021</td>\n",
       "      <td>8.524799</td>\n",
       "    </tr>\n",
       "    <tr>\n",
       "      <th>2019-04-23 04:31:02</th>\n",
       "      <td>0.751880</td>\n",
       "      <td>0.748130</td>\n",
       "      <td>0.750000</td>\n",
       "      <td>10.917618</td>\n",
       "      <td>8.468021</td>\n",
       "      <td>8.524799</td>\n",
       "    </tr>\n",
       "    <tr>\n",
       "      <th>2019-04-23 04:31:03</th>\n",
       "      <td>0.500000</td>\n",
       "      <td>0.000000</td>\n",
       "      <td>0.251889</td>\n",
       "      <td>10.917618</td>\n",
       "      <td>8.468021</td>\n",
       "      <td>8.524799</td>\n",
       "    </tr>\n",
       "    <tr>\n",
       "      <th>2019-04-23 04:31:04</th>\n",
       "      <td>0.000000</td>\n",
       "      <td>0.750000</td>\n",
       "      <td>0.750000</td>\n",
       "      <td>10.917618</td>\n",
       "      <td>8.468021</td>\n",
       "      <td>8.524799</td>\n",
       "    </tr>\n",
       "  </tbody>\n",
       "</table>\n",
       "</div>"
      ],
      "text/plain": [
       "                     collectd_cpu_percent_node1  collectd_cpu_percent_node2  \\\n",
       "2019-04-23 04:31:00                    1.253133                    0.251256   \n",
       "2019-04-23 04:31:01                    1.253133                    0.750000   \n",
       "2019-04-23 04:31:02                    0.751880                    0.748130   \n",
       "2019-04-23 04:31:03                    0.500000                    0.000000   \n",
       "2019-04-23 04:31:04                    0.000000                    0.750000   \n",
       "\n",
       "                     collectd_cpu_percent_node3  memory_node1  memory_node2  \\\n",
       "2019-04-23 04:31:00                    0.251256     10.917618      8.468021   \n",
       "2019-04-23 04:31:01                    0.000000     10.917618      8.468021   \n",
       "2019-04-23 04:31:02                    0.750000     10.917618      8.468021   \n",
       "2019-04-23 04:31:03                    0.251889     10.917618      8.468021   \n",
       "2019-04-23 04:31:04                    0.750000     10.917618      8.468021   \n",
       "\n",
       "                     memory_node3  \n",
       "2019-04-23 04:31:00      8.524799  \n",
       "2019-04-23 04:31:01      8.524799  \n",
       "2019-04-23 04:31:02      8.524799  \n",
       "2019-04-23 04:31:03      8.524799  \n",
       "2019-04-23 04:31:04      8.524799  "
      ]
     },
     "execution_count": 3,
     "metadata": {},
     "output_type": "execute_result"
    }
   ],
   "source": [
    "dataset.head()"
   ]
  },
  {
   "cell_type": "code",
   "execution_count": 4,
   "metadata": {},
   "outputs": [],
   "source": [
    "'''\n",
    "Normalise the data in range 0-1, use sklearn's MinMaxScaler to do that\n",
    "'''\n",
    "X = dataset.values\n",
    "from sklearn.preprocessing import MinMaxScaler\n",
    "sc = MinMaxScaler(feature_range = (0, 1))\n",
    "X = sc.fit_transform(X)"
   ]
  },
  {
   "cell_type": "code",
   "execution_count": 5,
   "metadata": {},
   "outputs": [
    {
     "data": {
      "text/plain": [
       "27212"
      ]
     },
     "execution_count": 5,
     "metadata": {},
     "output_type": "execute_result"
    }
   ],
   "source": [
    "len(X)"
   ]
  },
  {
   "cell_type": "code",
   "execution_count": 6,
   "metadata": {},
   "outputs": [],
   "source": [
    "\"\"\"\n",
    "A rule of thumb to set the size of the grid for a dimensionality\n",
    "reduction task is that it should contain 5*sqrt(N) neurons\n",
    "where N is the number of samples in the dataset to analyze.\n",
    "\n",
    "E.g. if your dataset has 150 samples, 5*sqrt(150) = 61.23\n",
    "hence a map 8-by-8 should perform well.\n",
    "\"\"\"\n",
    "x_dim = int(math.sqrt(5*math.sqrt(len(X))))\n",
    "y_dim = x_dim"
   ]
  },
  {
   "cell_type": "code",
   "execution_count": 7,
   "metadata": {},
   "outputs": [],
   "source": [
    "features = len(dataset.columns)\n",
    "learning_factor = 0.7\n",
    "neighborhood_radius = 4"
   ]
  },
  {
   "cell_type": "code",
   "execution_count": 8,
   "metadata": {},
   "outputs": [],
   "source": [
    "#Initialise the SOM model\n",
    "som = SOM(M=x_dim, N=y_dim, noof_features=features, radius=neighborhood_radius, learning_rate=learning_factor)"
   ]
  },
  {
   "cell_type": "code",
   "execution_count": 9,
   "metadata": {},
   "outputs": [],
   "source": [
    "# Initialise the weights and train the model\n",
    "som.randomly_initialise_weights(X)\n",
    "som.train_random(X, total_iterations=20000)"
   ]
  },
  {
   "cell_type": "code",
   "execution_count": 10,
   "metadata": {},
   "outputs": [
    {
     "data": {
      "text/plain": [
       "<matplotlib.colorbar.Colorbar at 0x1a11b64cf8>"
      ]
     },
     "execution_count": 10,
     "metadata": {},
     "output_type": "execute_result"
    },
    {
     "data": {
      "image/png": "[encoded data removed]",
      "text/plain": [
       "<Figure size 432x288 with 2 Axes>"
      ]
     },
     "metadata": {},
     "output_type": "display_data"
    }
   ],
   "source": [
    "# Visialise the map\n",
    "MID_map = som.get_MID_map()\n",
    "from pylab import bone, pcolor, colorbar, plot, show, figure\n",
    "bone()\n",
    "pcolor(MID_map.T)\n",
    "colorbar()"
   ]
  },
  {
   "cell_type": "code",
   "execution_count": 11,
   "metadata": {},
   "outputs": [],
   "source": [
    "from numpySOM import save, load"
   ]
  },
  {
   "cell_type": "code",
   "execution_count": 12,
   "metadata": {},
   "outputs": [],
   "source": [
    "# Save the model and the min-max scaler\n",
    "save(som, 'cassandra_som.pkl')\n",
    "save(sc, 'cassandra_sc.pkl')"
   ]
  }
 ],
 "metadata": {
  "kernelspec": {
   "display_name": "Python 3",
   "language": "python",
   "name": "python3"
  },
  "language_info": {
   "codemirror_mode": {
    "name": "ipython",
    "version": 3
   },
   "file_extension": ".py",
   "mimetype": "text/x-python",
   "name": "python",
   "nbconvert_exporter": "python",
   "pygments_lexer": "ipython3",
   "version": "3.6.5"
  }
 },
 "nbformat": 4,
 "nbformat_minor": 2
}
